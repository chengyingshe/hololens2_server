{
 "cells": [
  {
   "cell_type": "code",
   "execution_count": null,
   "metadata": {},
   "outputs": [],
   "source": [
    "from faker import Faker\n",
    "\n",
    "faker = Faker()\n",
    "faker.text()"
   ]
  },
  {
   "cell_type": "code",
   "execution_count": null,
   "metadata": {},
   "outputs": [],
   "source": [
    "from server_client.server_client import Server\n",
    "import os\n",
    "import sys\n",
    "BASE_PATH = os.path.dirname(os.path.dirname(os.path.abspath(__file__)))\n",
    "sys.path.append(BASE_PATH)\n",
    "\n",
    "server = Server(loop=True)"
   ]
  },
  {
   "cell_type": "code",
   "execution_count": null,
   "metadata": {},
   "outputs": [],
   "source": [
    "import os\n",
    "import sys\n",
    "\n",
    "BASE_PATH = os.path.dirname(os.path.abspath(os.curdir))\n",
    "sys.path.append(BASE_PATH)\n",
    "\n",
    "from server_client.server_client import Server\n"
   ]
  },
  {
   "cell_type": "code",
   "execution_count": null,
   "metadata": {},
   "outputs": [],
   "source": [
    "server = Server(loop=True)"
   ]
  },
  {
   "cell_type": "code",
   "execution_count": 12,
   "metadata": {},
   "outputs": [
    {
     "data": {
      "text/plain": [
       "'{\"lines\": [{\"text\": \"123\", \"position\": [[1.0, 2.0], [3.0, 4.0], [4.0, 5.0]]}, {\"text\": \"123\", \"position\": [[1.0, 2.0], [3.0, 4.0], [4.0, 5.0]]}, {\"text\": \"123\", \"position\": [[1.0, 2.0], [3.0, 4.0], [4.0, 5.0]]}]}'"
      ]
     },
     "execution_count": 12,
     "metadata": {},
     "output_type": "execute_result"
    }
   ],
   "source": [
    "import json\n",
    "import numpy as np\n",
    "\n",
    "b = {\n",
    "    'text': '123',\n",
    "    'position': np.array([[1, 2], [3, 4], [4, 5]]).astype(np.float32).tolist()\n",
    "}\n",
    "a = {\n",
    "    'lines': [\n",
    "        b,\n",
    "        b,\n",
    "        b\n",
    "    ]\n",
    "    \n",
    "}\n",
    "json.dumps(a)"
   ]
  }
 ],
 "metadata": {
  "kernelspec": {
   "display_name": "cv",
   "language": "python",
   "name": "python3"
  },
  "language_info": {
   "codemirror_mode": {
    "name": "ipython",
    "version": 3
   },
   "file_extension": ".py",
   "mimetype": "text/x-python",
   "name": "python",
   "nbconvert_exporter": "python",
   "pygments_lexer": "ipython3",
   "version": "3.9.0"
  }
 },
 "nbformat": 4,
 "nbformat_minor": 2
}
