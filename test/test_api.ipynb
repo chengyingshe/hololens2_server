{
 "cells": [
  {
   "cell_type": "code",
   "execution_count": 50,
   "metadata": {},
   "outputs": [],
   "source": [
    "import requests\n",
    "import base64\n",
    "import json\n",
    "\n",
    "url = 'http://127.0.0.1:5000/face_emotion_recognition'\n",
    "with open('face1.jpg', 'rb') as f:\n",
    "    data = f.read()\n",
    "    data = str(base64.b64encode(data), encoding='utf-8')\n",
    "# print(data)\n",
    "headers = {\n",
    "    'content-type': 'application/json'\n",
    "}\n",
    "json_data = {\n",
    "    'file': data\n",
    "    }\n",
    "\n",
    "resp = requests.post(url, data=json.dumps(json_data), headers=headers)"
   ]
  },
  {
   "cell_type": "code",
   "execution_count": 48,
   "metadata": {},
   "outputs": [
    {
     "data": {
      "text/plain": [
       "b'{\\n  \"data\": {\\n    \"lines\": [\\n      {\\n        \"confidence\": 0.724531888961792,\\n        \"position\": [\\n          [\\n            8.0,\\n            31.0\\n          ],\\n          [\\n            364.0,\\n            27.0\\n          ],\\n          [\\n            365.0,\\n            82.0\\n          ],\\n          [\\n            8.0,\\n            86.0\\n          ]\\n        ],\\n        \"text\": \"AIl api available:\"\\n      },\\n      {\\n        \"confidence\": 0.7363716959953308,\\n        \"position\": [\\n          [\\n            52.0,\\n            125.0\\n          ],\\n          [\\n            141.0,\\n            125.0\\n          ],\\n          [\\n            141.0,\\n            153.0\\n          ],\\n          [\\n            52.0,\\n            153.0\\n          ]\\n        ],\\n        \"text\": \"bo\"\\n      },\\n      {\\n        \"confidence\": 0.6787229776382446,\\n        \"position\": [\\n          [\\n            48.0,\\n            158.0\\n          ],\\n          [\\n            361.0,\\n            161.0\\n          ],\\n          [\\n            361.0,\\n            197.0\\n          ],\\n          [\\n            48.0,\\n            194.0\\n          ]\\n        ],\\n        \"text\": \"> /speechLrecognition\"\\n      },\\n      {\\n        \"confidence\": 0.8166530728340149,\\n        \"position\": [\\n          [\\n            50.0,\\n            196.0\\n          ],\\n          [\\n            445.0,\\n            196.0\\n          ],\\n          [\\n            445.0,\\n            230.0\\n          ],\\n          [\\n            50.0,\\n            230.0\\n          ]\\n        ],\\n        \"text\": \"APoLPB2E6oPE66\"\\n      }\\n    ]\\n  }\\n}\\n'"
      ]
     },
     "execution_count": 48,
     "metadata": {},
     "output_type": "execute_result"
    }
   ],
   "source": [
    "resp.content"
   ]
  },
  {
   "cell_type": "code",
   "execution_count": 51,
   "metadata": {},
   "outputs": [
    {
     "data": {
      "text/plain": [
       "{'data': {'confidence': 0.8072310090065002, 'emotion': 'neutral'}}"
      ]
     },
     "execution_count": 51,
     "metadata": {},
     "output_type": "execute_result"
    }
   ],
   "source": [
    "res_json = json.loads(resp.content)\n",
    "res_json"
   ]
  }
 ],
 "metadata": {
  "kernelspec": {
   "display_name": "hololens2",
   "language": "python",
   "name": "python3"
  },
  "language_info": {
   "codemirror_mode": {
    "name": "ipython",
    "version": 3
   },
   "file_extension": ".py",
   "mimetype": "text/x-python",
   "name": "python",
   "nbconvert_exporter": "python",
   "pygments_lexer": "ipython3",
   "version": "3.9.19"
  }
 },
 "nbformat": 4,
 "nbformat_minor": 2
}
