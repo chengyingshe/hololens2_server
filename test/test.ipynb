{
 "cells": [
  {
   "cell_type": "code",
   "execution_count": 7,
   "metadata": {},
   "outputs": [],
   "source": [
    "import requests\n",
    "import base64\n",
    "import json\n",
    "\n",
    "url = 'http://127.0.0.1:5000/face_emotion_recognition'\n",
    "with open('face1.jpg', 'rb') as f:\n",
    "    data = f.read()\n",
    "    data = str(base64.b64encode(data), encoding='utf-8')\n",
    "# print(data)\n",
    "headers = {\n",
    "    'content-type': 'application/json'\n",
    "}\n",
    "json_data = {\n",
    "    'file': data\n",
    "    }\n",
    "\n",
    "resp = requests.post(url, data=json.dumps(json_data), headers=headers)"
   ]
  },
  {
   "cell_type": "code",
   "execution_count": 9,
   "metadata": {},
   "outputs": [
    {
     "data": {
      "text/plain": [
       "'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'"
      ]
     },
     "execution_count": 9,
     "metadata": {},
     "output_type": "execute_result"
    }
   ],
   "source": [
    "data"
   ]
  },
  {
   "cell_type": "code",
   "execution_count": 8,
   "metadata": {},
   "outputs": [
    {
     "data": {
      "text/plain": [
       "{'data': {'lines': [{'confidence': 0.724531888961792,\n",
       "    'position': [[8.0, 31.0], [364.0, 27.0], [365.0, 82.0], [8.0, 86.0]],\n",
       "    'text': 'AIl api available:'},\n",
       "   {'confidence': 0.7363716959953308,\n",
       "    'position': [[52.0, 125.0], [141.0, 125.0], [141.0, 153.0], [52.0, 153.0]],\n",
       "    'text': 'bo'},\n",
       "   {'confidence': 0.6787229776382446,\n",
       "    'position': [[48.0, 158.0], [361.0, 161.0], [361.0, 197.0], [48.0, 194.0]],\n",
       "    'text': '> /speechLrecognition'},\n",
       "   {'confidence': 0.8166530728340149,\n",
       "    'position': [[50.0, 196.0], [445.0, 196.0], [445.0, 230.0], [50.0, 230.0]],\n",
       "    'text': 'APoLPB2E6oPE66'}]}}"
      ]
     },
     "execution_count": 8,
     "metadata": {},
     "output_type": "execute_result"
    }
   ],
   "source": [
    "res_json = json.loads(resp.content)\n",
    "res_json"
   ]
  },
  {
   "cell_type": "code",
   "execution_count": 1,
   "metadata": {},
   "outputs": [
    {
     "name": "stdout",
     "output_type": "stream",
     "text": [
      "WARNING:tensorflow:Error in loading the saved optimizer state. As a result, your model is starting with a freshly initialized optimizer.\n"
     ]
    }
   ],
   "source": [
    "import _init_path\n",
    "from emotion_recognizer.emotion_recognizer import EmotionRecognizer\n",
    "\n",
    "emotionRecog = EmotionRecognizer()"
   ]
  },
  {
   "cell_type": "code",
   "execution_count": 4,
   "metadata": {},
   "outputs": [
    {
     "name": "stdout",
     "output_type": "stream",
     "text": [
      "1/1 [==============================] - 15s 15s/step\n"
     ]
    },
    {
     "data": {
      "text/plain": [
       "('中性', 0.8071386)"
      ]
     },
     "execution_count": 4,
     "metadata": {},
     "output_type": "execute_result"
    }
   ],
   "source": [
    "image_path = 'face1.jpg'\n",
    "emotionRecog.recognize_emotion_from_path(image_path)"
   ]
  },
  {
   "cell_type": "code",
   "execution_count": 3,
   "metadata": {},
   "outputs": [
    {
     "name": "stdout",
     "output_type": "stream",
     "text": [
      "1/1 [==============================] - 0s 42ms/step\n"
     ]
    },
    {
     "data": {
      "text/plain": [
       "('高兴', 0.9859363)"
      ]
     },
     "execution_count": 3,
     "metadata": {},
     "output_type": "execute_result"
    }
   ],
   "source": [
    "image_path = 'face2.jpg'\n",
    "emotionRecog.recognize_emotion_from_path(image_path)"
   ]
  },
  {
   "cell_type": "code",
   "execution_count": null,
   "metadata": {},
   "outputs": [],
   "source": []
  }
 ],
 "metadata": {
  "kernelspec": {
   "display_name": "hololens2",
   "language": "python",
   "name": "python3"
  },
  "language_info": {
   "codemirror_mode": {
    "name": "ipython",
    "version": 3
   },
   "file_extension": ".py",
   "mimetype": "text/x-python",
   "name": "python",
   "nbconvert_exporter": "python",
   "pygments_lexer": "ipython3",
   "version": "3.9.19"
  }
 },
 "nbformat": 4,
 "nbformat_minor": 2
}
